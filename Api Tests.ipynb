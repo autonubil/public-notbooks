{
 "cells": [
  {
   "cell_type": "code",
   "execution_count": 8,
   "metadata": {},
   "outputs": [
    {
     "name": "stderr",
     "output_type": "stream",
     "text": [
      "From: Köln, Germany - to: Bad Hersfeld, Germany\n",
      "Time 160.95 minutes, distance 252.16 km.\n"
     ]
    },
    {
     "data": {
      "text/plain": [
       "(160.95, 252.156)"
      ]
     },
     "execution_count": 8,
     "metadata": {},
     "output_type": "execute_result"
    }
   ],
   "source": [
    "#!pip install WazeRouteCalculator\n",
    "import WazeRouteCalculator\n",
    "\n",
    "from_address = 'Köln, Germany'\n",
    "to_address = 'Bad Hersfeld, Germany'\n",
    "region = 'EU'\n",
    "route = WazeRouteCalculator.WazeRouteCalculator(from_address, to_address, region)\n",
    "route.calc_route_info(real_time=False)"
   ]
  },
  {
   "cell_type": "code",
   "execution_count": 16,
   "metadata": {},
   "outputs": [],
   "source": [
    "import json\n",
    "import pandas as pd\n",
    "import requests\n",
    "from pandas.io.json import json_normalize\n",
    "\n",
    "urban_pulse_user = 'hackathon'\n",
    "urban_pulse_password = 'L33333t+'\n",
    "urban_pulse_url = 'https://sc-hackathon.urbanpulse.de/UrbanPulseManagement/api/'\n",
    "\n",
    "pd.set_option('max_colwidth', 800)"
   ]
  },
  {
   "cell_type": "code",
   "execution_count": 24,
   "metadata": {},
   "outputs": [
    {
     "data": {
      "text/html": [
       "<style  type=\"text/css\" >\n",
       "</style>  \n",
       "<table id=\"T_5a7ed862_3da1_11e8_a874_94659c7c0b0a\" > \n",
       "<thead>    <tr> \n",
       "        <th class=\"blank level0\" ></th> \n",
       "        <th class=\"col_heading level0 col0\" >config</th> \n",
       "        <th class=\"col_heading level0 col1\" >description</th> \n",
       "        <th class=\"col_heading level0 col2\" >id</th> \n",
       "        <th class=\"col_heading level0 col3\" >name</th> \n",
       "        <th class=\"col_heading level0 col4\" >sensors</th> \n",
       "    </tr></thead> \n",
       "<tbody>    <tr> \n",
       "        <th id=\"T_5a7ed862_3da1_11e8_a874_94659c7c0b0alevel0_row0\" class=\"row_heading level0 row0\" >0</th> \n",
       "        <td id=\"T_5a7ed862_3da1_11e8_a874_94659c7c0b0arow0_col0\" class=\"data row0 col0\" >{'location': 'string', 'measurement': 'double', 'latitude': 'double', 'timestamp': 'java.util.Date', 'longitude': 'double', 'SID': 'string'}</td> \n",
       "        <td id=\"T_5a7ed862_3da1_11e8_a874_94659c7c0b0arow0_col1\" class=\"data row0 col1\" >{}</td> \n",
       "        <td id=\"T_5a7ed862_3da1_11e8_a874_94659c7c0b0arow0_col2\" class=\"data row0 col2\" >152f4109-2099-40ab-aa8f-bb74e285fcd8</td> \n",
       "        <td id=\"T_5a7ed862_3da1_11e8_a874_94659c7c0b0arow0_col3\" class=\"data row0 col3\" >WaveScapeEventType</td> \n",
       "        <td id=\"T_5a7ed862_3da1_11e8_a874_94659c7c0b0arow0_col4\" class=\"data row0 col4\" >['38', '54f98162-d991-4d08-bc71-4bccdddf20d4', '939c6731-25f9-4b1e-9821-80b19307d54f', '99b844fe-3723-466e-9003-4eecfb29e8e9']</td> \n",
       "    </tr>    <tr> \n",
       "        <th id=\"T_5a7ed862_3da1_11e8_a874_94659c7c0b0alevel0_row1\" class=\"row_heading level0 row1\" >1</th> \n",
       "        <td id=\"T_5a7ed862_3da1_11e8_a874_94659c7c0b0arow1_col0\" class=\"data row1 col0\" >{'D49-64': 'long', 'S20': 'string', 'S22': 'string', 'S21': 'string', 'S02': 'string', 'S24': 'string', 'S01': 'string', 'S23': 'string', 'S04': 'string', 'S26': 'string', 'S03': 'string', 'S25': 'string', 'S06': 'string', 'S28': 'string', 'S05': 'string', 'S27': 'string', 'S08': 'string', 'S07': 'string', 'S29': 'string', 'Uhrzeit': 'string', 'S09': 'string', 'timestamp': 'java.util.Date', 'Status': 'long', 'Datum': 'string', 'Umlaufsekunde': 'long', 'Programm': 'long', 'D01-16': 'long', 'Bezeichnung': 'string', 'SID': 'string', 'S31': 'string', 'S30': 'string', 'S11': 'string', 'S10': 'string', 'S32': 'string', 'S13': 'string', 'Uhrzeit ms': 'long', 'S12': 'string', 'S15': 'string', 'S14': 'string', 'D17-32': 'long', 'S17': 'string', 'S16': 'string', 'S19': 'string', 'S18': 'string', 'D33-48': 'long'}</td> \n",
       "        <td id=\"T_5a7ed862_3da1_11e8_a874_94659c7c0b0arow1_col1\" class=\"data row1 col1\" >{'Dxx-yy': 'each a bitfield of 16 bits, value for each detector is either 0 or 1'}</td> \n",
       "        <td id=\"T_5a7ed862_3da1_11e8_a874_94659c7c0b0arow1_col2\" class=\"data row1 col2\" >6f7d208c-6258-421c-968d-49b39495465f</td> \n",
       "        <td id=\"T_5a7ed862_3da1_11e8_a874_94659c7c0b0arow1_col3\" class=\"data row1 col3\" >SwarcoTMSEventType</td> \n",
       "        <td id=\"T_5a7ed862_3da1_11e8_a874_94659c7c0b0arow1_col4\" class=\"data row1 col4\" >['138', '141', '142', '143', '148', '59']</td> \n",
       "    </tr>    <tr> \n",
       "        <th id=\"T_5a7ed862_3da1_11e8_a874_94659c7c0b0alevel0_row2\" class=\"row_heading level0 row2\" >2</th> \n",
       "        <td id=\"T_5a7ed862_3da1_11e8_a874_94659c7c0b0arow2_col0\" class=\"data row2 col0\" >{'duration': 'long', 'signals': 'string', 'originSID': 'string', 'controllerState': 'long', 'LSA': 'string', 'program': 'long', 'region': 'long', 'rawTimestamp': 'java.util.Date', 'timestamp': 'java.util.Date', 'SID': 'string'}</td> \n",
       "        <td id=\"T_5a7ed862_3da1_11e8_a874_94659c7c0b0arow2_col1\" class=\"data row2 col1\" >{}</td> \n",
       "        <td id=\"T_5a7ed862_3da1_11e8_a874_94659c7c0b0arow2_col2\" class=\"data row2 col2\" >74b65db1-df5f-45d5-9e71-97a7c68666ba</td> \n",
       "        <td id=\"T_5a7ed862_3da1_11e8_a874_94659c7c0b0arow2_col3\" class=\"data row2 col3\" >SPPAnalyticsResultv2</td> \n",
       "        <td id=\"T_5a7ed862_3da1_11e8_a874_94659c7c0b0arow2_col4\" class=\"data row2 col4\" >['138AN', '141AN', '142AN', '143HMM', '148AN', '59AN']</td> \n",
       "    </tr></tbody> \n",
       "</table> "
      ],
      "text/plain": [
       "<pandas.io.formats.style.Styler at 0x7eff5cb92518>"
      ]
     },
     "execution_count": 24,
     "metadata": {},
     "output_type": "execute_result"
    }
   ],
   "source": [
    "response = requests.get(urban_pulse_url+ 'eventtypes', auth=(urban_pulse_user,urban_pulse_password), stream=True)\n",
    "df = pd.DataFrame(response.json()['eventtypes']);\n",
    "df.head(3).style"
   ]
  },
  {
   "cell_type": "code",
   "execution_count": 25,
   "metadata": {},
   "outputs": [
    {
     "data": {
      "text/html": [
       "<div>\n",
       "<style>\n",
       "    .dataframe thead tr:only-child th {\n",
       "        text-align: right;\n",
       "    }\n",
       "\n",
       "    .dataframe thead th {\n",
       "        text-align: left;\n",
       "    }\n",
       "\n",
       "    .dataframe tbody tr th {\n",
       "        vertical-align: top;\n",
       "    }\n",
       "</style>\n",
       "<table border=\"1\" class=\"dataframe\">\n",
       "  <thead>\n",
       "    <tr style=\"text-align: right;\">\n",
       "      <th></th>\n",
       "      <th>categories</th>\n",
       "      <th>description</th>\n",
       "      <th>eventtype</th>\n",
       "      <th>id</th>\n",
       "      <th>location</th>\n",
       "      <th>senderid</th>\n",
       "    </tr>\n",
       "  </thead>\n",
       "  <tbody>\n",
       "    <tr>\n",
       "      <th>0</th>\n",
       "      <td>[b537e6ab-ae6f-4b64-b9e6-4ed189a27665]</td>\n",
       "      <td>{'reference': {'Bezeichnung': 'A 99'}}</td>\n",
       "      <td>6f7d208c-6258-421c-968d-49b39495465f</td>\n",
       "      <td>138</td>\n",
       "      <td>{'type': 'undefined'}</td>\n",
       "      <td>3825d55c-61fd-4924-b9e0-c49bd35aab97</td>\n",
       "    </tr>\n",
       "    <tr>\n",
       "      <th>1</th>\n",
       "      <td>[f8deb6ed-0ae4-4af2-8c18-3ba16e56a7c3]</td>\n",
       "      <td>{'reference': {'originSID': '138'}}</td>\n",
       "      <td>74b65db1-df5f-45d5-9e71-97a7c68666ba</td>\n",
       "      <td>138AN</td>\n",
       "      <td>{'type': 'undefined'}</td>\n",
       "      <td>3825d55c-61fd-4924-b9e0-c49bd35aab97</td>\n",
       "    </tr>\n",
       "    <tr>\n",
       "      <th>2</th>\n",
       "      <td>[b537e6ab-ae6f-4b64-b9e6-4ed189a27665]</td>\n",
       "      <td>{'reference': {'Bezeichnung': 'A  7'}}</td>\n",
       "      <td>6f7d208c-6258-421c-968d-49b39495465f</td>\n",
       "      <td>141</td>\n",
       "      <td>{'type': 'undefined'}</td>\n",
       "      <td>3825d55c-61fd-4924-b9e0-c49bd35aab97</td>\n",
       "    </tr>\n",
       "  </tbody>\n",
       "</table>\n",
       "</div>"
      ],
      "text/plain": [
       "                               categories  \\\n",
       "0  [b537e6ab-ae6f-4b64-b9e6-4ed189a27665]   \n",
       "1  [f8deb6ed-0ae4-4af2-8c18-3ba16e56a7c3]   \n",
       "2  [b537e6ab-ae6f-4b64-b9e6-4ed189a27665]   \n",
       "\n",
       "                              description  \\\n",
       "0  {'reference': {'Bezeichnung': 'A 99'}}   \n",
       "1     {'reference': {'originSID': '138'}}   \n",
       "2  {'reference': {'Bezeichnung': 'A  7'}}   \n",
       "\n",
       "                              eventtype     id               location  \\\n",
       "0  6f7d208c-6258-421c-968d-49b39495465f    138  {'type': 'undefined'}   \n",
       "1  74b65db1-df5f-45d5-9e71-97a7c68666ba  138AN  {'type': 'undefined'}   \n",
       "2  6f7d208c-6258-421c-968d-49b39495465f    141  {'type': 'undefined'}   \n",
       "\n",
       "                               senderid  \n",
       "0  3825d55c-61fd-4924-b9e0-c49bd35aab97  \n",
       "1  3825d55c-61fd-4924-b9e0-c49bd35aab97  \n",
       "2  3825d55c-61fd-4924-b9e0-c49bd35aab97  "
      ]
     },
     "execution_count": 25,
     "metadata": {},
     "output_type": "execute_result"
    }
   ],
   "source": [
    "response = requests.get(urban_pulse_url +'sensors', auth=(urban_pulse_user,urban_pulse_password), stream=True)\n",
    "df = pd.DataFrame(response.json()['sensors']);\n",
    "df.head(3)"
   ]
  },
  {
   "cell_type": "code",
   "execution_count": 27,
   "metadata": {},
   "outputs": [
    {
     "data": {
      "text/plain": [
       "{'sensors': [{'id': '138',\n",
       "   'description': {'reference': {'Bezeichnung': 'A 99'}},\n",
       "   'location': {'type': 'undefined'},\n",
       "   'senderid': '3825d55c-61fd-4924-b9e0-c49bd35aab97',\n",
       "   'categories': ['b537e6ab-ae6f-4b64-b9e6-4ed189a27665'],\n",
       "   'eventtype': '6f7d208c-6258-421c-968d-49b39495465f'},\n",
       "  {'id': '138AN',\n",
       "   'description': {'reference': {'originSID': '138'}},\n",
       "   'location': {'type': 'undefined'},\n",
       "   'senderid': '3825d55c-61fd-4924-b9e0-c49bd35aab97',\n",
       "   'categories': ['f8deb6ed-0ae4-4af2-8c18-3ba16e56a7c3'],\n",
       "   'eventtype': '74b65db1-df5f-45d5-9e71-97a7c68666ba'},\n",
       "  {'id': '141',\n",
       "   'description': {'reference': {'Bezeichnung': 'A  7'}},\n",
       "   'location': {'type': 'undefined'},\n",
       "   'senderid': '3825d55c-61fd-4924-b9e0-c49bd35aab97',\n",
       "   'categories': ['b537e6ab-ae6f-4b64-b9e6-4ed189a27665'],\n",
       "   'eventtype': '6f7d208c-6258-421c-968d-49b39495465f'},\n",
       "  {'id': '141AN',\n",
       "   'description': {'reference': {'originSID': '141'}},\n",
       "   'location': {'type': 'undefined'},\n",
       "   'senderid': '3825d55c-61fd-4924-b9e0-c49bd35aab97',\n",
       "   'categories': ['f8deb6ed-0ae4-4af2-8c18-3ba16e56a7c3'],\n",
       "   'eventtype': '74b65db1-df5f-45d5-9e71-97a7c68666ba'},\n",
       "  {'id': '142',\n",
       "   'description': {'reference': {'Bezeichnung': 'A200'}},\n",
       "   'location': {'type': 'undefined'},\n",
       "   'senderid': '3825d55c-61fd-4924-b9e0-c49bd35aab97',\n",
       "   'categories': ['b537e6ab-ae6f-4b64-b9e6-4ed189a27665'],\n",
       "   'eventtype': '6f7d208c-6258-421c-968d-49b39495465f'},\n",
       "  {'id': '142AN',\n",
       "   'description': {'reference': {'originSID': '142'}},\n",
       "   'location': {'type': 'undefined'},\n",
       "   'senderid': '3825d55c-61fd-4924-b9e0-c49bd35aab97',\n",
       "   'categories': ['f8deb6ed-0ae4-4af2-8c18-3ba16e56a7c3'],\n",
       "   'eventtype': '74b65db1-df5f-45d5-9e71-97a7c68666ba'},\n",
       "  {'id': '143',\n",
       "   'description': {'reference': {'Bezeichnung': 'A  2'}},\n",
       "   'location': {'type': 'undefined'},\n",
       "   'senderid': '3825d55c-61fd-4924-b9e0-c49bd35aab97',\n",
       "   'categories': ['b537e6ab-ae6f-4b64-b9e6-4ed189a27665'],\n",
       "   'eventtype': '6f7d208c-6258-421c-968d-49b39495465f'},\n",
       "  {'id': '143HMM',\n",
       "   'description': {'reference': {'originSID': '143'}},\n",
       "   'location': {'type': 'undefined'},\n",
       "   'senderid': '3825d55c-61fd-4924-b9e0-c49bd35aab97',\n",
       "   'categories': ['f8deb6ed-0ae4-4af2-8c18-3ba16e56a7c3'],\n",
       "   'eventtype': '74b65db1-df5f-45d5-9e71-97a7c68666ba'},\n",
       "  {'id': '148',\n",
       "   'description': {'reference': {'Bezeichnung': 'A  3'}},\n",
       "   'location': {'type': 'undefined'},\n",
       "   'senderid': '3825d55c-61fd-4924-b9e0-c49bd35aab97',\n",
       "   'categories': ['b537e6ab-ae6f-4b64-b9e6-4ed189a27665'],\n",
       "   'eventtype': '6f7d208c-6258-421c-968d-49b39495465f'},\n",
       "  {'id': '148AN',\n",
       "   'description': {'reference': {'originSID': '148'}},\n",
       "   'location': {'type': 'undefined'},\n",
       "   'senderid': '3825d55c-61fd-4924-b9e0-c49bd35aab97',\n",
       "   'categories': ['f8deb6ed-0ae4-4af2-8c18-3ba16e56a7c3'],\n",
       "   'eventtype': '74b65db1-df5f-45d5-9e71-97a7c68666ba'},\n",
       "  {'id': '38',\n",
       "   'description': {'reference': {'dummy': 'wavescape'}},\n",
       "   'location': {'type': 'undefined'},\n",
       "   'senderid': '3825d55c-61fd-4924-b9e0-c49bd35aab97',\n",
       "   'categories': [],\n",
       "   'eventtype': '152f4109-2099-40ab-aa8f-bb74e285fcd8'},\n",
       "  {'id': '54f98162-d991-4d08-bc71-4bccdddf20d4',\n",
       "   'description': {'reference': {'location': 'Bad Hersfeld'}},\n",
       "   'location': {'type': 'undefined'},\n",
       "   'senderid': '310bc6e0-4514-4ce1-93fc-eaa605636624',\n",
       "   'categories': [],\n",
       "   'eventtype': '152f4109-2099-40ab-aa8f-bb74e285fcd8'},\n",
       "  {'id': '59',\n",
       "   'description': {'reference': {'Bezeichnung': 'A 89'}},\n",
       "   'location': {'type': 'undefined'},\n",
       "   'senderid': '3825d55c-61fd-4924-b9e0-c49bd35aab97',\n",
       "   'categories': ['b537e6ab-ae6f-4b64-b9e6-4ed189a27665'],\n",
       "   'eventtype': '6f7d208c-6258-421c-968d-49b39495465f'},\n",
       "  {'id': '59AN',\n",
       "   'description': {'reference': {'originSID': '59'}},\n",
       "   'location': {'type': 'undefined'},\n",
       "   'senderid': '3825d55c-61fd-4924-b9e0-c49bd35aab97',\n",
       "   'categories': ['f8deb6ed-0ae4-4af2-8c18-3ba16e56a7c3'],\n",
       "   'eventtype': '74b65db1-df5f-45d5-9e71-97a7c68666ba'},\n",
       "  {'id': '939c6731-25f9-4b1e-9821-80b19307d54f',\n",
       "   'description': {'reference': {'location': 'Bad Hersfeld'}},\n",
       "   'location': {'type': 'undefined'},\n",
       "   'senderid': '310bc6e0-4514-4ce1-93fc-eaa605636624',\n",
       "   'categories': [],\n",
       "   'eventtype': '152f4109-2099-40ab-aa8f-bb74e285fcd8'},\n",
       "  {'id': '99b844fe-3723-466e-9003-4eecfb29e8e9',\n",
       "   'description': {'reference': {'dummy': 'wavescape'}},\n",
       "   'location': {'type': 'undefined'},\n",
       "   'senderid': '310bc6e0-4514-4ce1-93fc-eaa605636624',\n",
       "   'categories': ['b537e6ab-ae6f-4b64-b9e6-4ed189a27665'],\n",
       "   'eventtype': '152f4109-2099-40ab-aa8f-bb74e285fcd8'},\n",
       "  {'id': 'df643806-1396-41b2-9e63-700c6e745555',\n",
       "   'description': {'reference': {'zipcode': '64283', 'countrycode': 'DE'}},\n",
       "   'location': {'type': 'undefined'},\n",
       "   'senderid': '310bc6e0-4514-4ce1-93fc-eaa605636624',\n",
       "   'categories': [],\n",
       "   'eventtype': 'b9aab89d-d495-4d3b-b96f-9723c1f3ecd7'}]}"
      ]
     },
     "execution_count": 27,
     "metadata": {},
     "output_type": "execute_result"
    }
   ],
   "source": [
    "response.json()"
   ]
  },
  {
   "cell_type": "code",
   "execution_count": 26,
   "metadata": {},
   "outputs": [],
   "source": [
    "umwelt_url = \"https://www.umweltbundesamt.de/js/uaq/data/stations/limits\""
   ]
  },
  {
   "cell_type": "code",
   "execution_count": 15,
   "metadata": {},
   "outputs": [
    {
     "ename": "ConnectionError",
     "evalue": "HTTPSConnectionPool(host='www.umweltbundesamt.de', port=443): Max retries exceeded with url: /js/uaq/data/stations/limits (Caused by NewConnectionError('<urllib3.connection.VerifiedHTTPSConnection object at 0x7eff6f87b1d0>: Failed to establish a new connection: [Errno -3] Temporary failure in name resolution',))",
     "output_type": "error",
     "traceback": [
      "\u001b[0;31m---------------------------------------------------------------------------\u001b[0m",
      "\u001b[0;31mgaierror\u001b[0m                                  Traceback (most recent call last)",
      "\u001b[0;32m~/anaconda3/lib/python3.6/site-packages/urllib3/connection.py\u001b[0m in \u001b[0;36m_new_conn\u001b[0;34m(self)\u001b[0m\n\u001b[1;32m    140\u001b[0m             conn = connection.create_connection(\n\u001b[0;32m--> 141\u001b[0;31m                 (self.host, self.port), self.timeout, **extra_kw)\n\u001b[0m\u001b[1;32m    142\u001b[0m \u001b[0;34m\u001b[0m\u001b[0m\n",
      "\u001b[0;32m~/anaconda3/lib/python3.6/site-packages/urllib3/util/connection.py\u001b[0m in \u001b[0;36mcreate_connection\u001b[0;34m(address, timeout, source_address, socket_options)\u001b[0m\n\u001b[1;32m     59\u001b[0m \u001b[0;34m\u001b[0m\u001b[0m\n\u001b[0;32m---> 60\u001b[0;31m     \u001b[0;32mfor\u001b[0m \u001b[0mres\u001b[0m \u001b[0;32min\u001b[0m \u001b[0msocket\u001b[0m\u001b[0;34m.\u001b[0m\u001b[0mgetaddrinfo\u001b[0m\u001b[0;34m(\u001b[0m\u001b[0mhost\u001b[0m\u001b[0;34m,\u001b[0m \u001b[0mport\u001b[0m\u001b[0;34m,\u001b[0m \u001b[0mfamily\u001b[0m\u001b[0;34m,\u001b[0m \u001b[0msocket\u001b[0m\u001b[0;34m.\u001b[0m\u001b[0mSOCK_STREAM\u001b[0m\u001b[0;34m)\u001b[0m\u001b[0;34m:\u001b[0m\u001b[0;34m\u001b[0m\u001b[0m\n\u001b[0m\u001b[1;32m     61\u001b[0m         \u001b[0maf\u001b[0m\u001b[0;34m,\u001b[0m \u001b[0msocktype\u001b[0m\u001b[0;34m,\u001b[0m \u001b[0mproto\u001b[0m\u001b[0;34m,\u001b[0m \u001b[0mcanonname\u001b[0m\u001b[0;34m,\u001b[0m \u001b[0msa\u001b[0m \u001b[0;34m=\u001b[0m \u001b[0mres\u001b[0m\u001b[0;34m\u001b[0m\u001b[0m\n",
      "\u001b[0;32m~/anaconda3/lib/python3.6/socket.py\u001b[0m in \u001b[0;36mgetaddrinfo\u001b[0;34m(host, port, family, type, proto, flags)\u001b[0m\n\u001b[1;32m    744\u001b[0m     \u001b[0maddrlist\u001b[0m \u001b[0;34m=\u001b[0m \u001b[0;34m[\u001b[0m\u001b[0;34m]\u001b[0m\u001b[0;34m\u001b[0m\u001b[0m\n\u001b[0;32m--> 745\u001b[0;31m     \u001b[0;32mfor\u001b[0m \u001b[0mres\u001b[0m \u001b[0;32min\u001b[0m \u001b[0m_socket\u001b[0m\u001b[0;34m.\u001b[0m\u001b[0mgetaddrinfo\u001b[0m\u001b[0;34m(\u001b[0m\u001b[0mhost\u001b[0m\u001b[0;34m,\u001b[0m \u001b[0mport\u001b[0m\u001b[0;34m,\u001b[0m \u001b[0mfamily\u001b[0m\u001b[0;34m,\u001b[0m \u001b[0mtype\u001b[0m\u001b[0;34m,\u001b[0m \u001b[0mproto\u001b[0m\u001b[0;34m,\u001b[0m \u001b[0mflags\u001b[0m\u001b[0;34m)\u001b[0m\u001b[0;34m:\u001b[0m\u001b[0;34m\u001b[0m\u001b[0m\n\u001b[0m\u001b[1;32m    746\u001b[0m         \u001b[0maf\u001b[0m\u001b[0;34m,\u001b[0m \u001b[0msocktype\u001b[0m\u001b[0;34m,\u001b[0m \u001b[0mproto\u001b[0m\u001b[0;34m,\u001b[0m \u001b[0mcanonname\u001b[0m\u001b[0;34m,\u001b[0m \u001b[0msa\u001b[0m \u001b[0;34m=\u001b[0m \u001b[0mres\u001b[0m\u001b[0;34m\u001b[0m\u001b[0m\n",
      "\u001b[0;31mgaierror\u001b[0m: [Errno -3] Temporary failure in name resolution",
      "\nDuring handling of the above exception, another exception occurred:\n",
      "\u001b[0;31mNewConnectionError\u001b[0m                        Traceback (most recent call last)",
      "\u001b[0;32m~/anaconda3/lib/python3.6/site-packages/urllib3/connectionpool.py\u001b[0m in \u001b[0;36murlopen\u001b[0;34m(self, method, url, body, headers, retries, redirect, assert_same_host, timeout, pool_timeout, release_conn, chunked, body_pos, **response_kw)\u001b[0m\n\u001b[1;32m    600\u001b[0m                                                   \u001b[0mbody\u001b[0m\u001b[0;34m=\u001b[0m\u001b[0mbody\u001b[0m\u001b[0;34m,\u001b[0m \u001b[0mheaders\u001b[0m\u001b[0;34m=\u001b[0m\u001b[0mheaders\u001b[0m\u001b[0;34m,\u001b[0m\u001b[0;34m\u001b[0m\u001b[0m\n\u001b[0;32m--> 601\u001b[0;31m                                                   chunked=chunked)\n\u001b[0m\u001b[1;32m    602\u001b[0m \u001b[0;34m\u001b[0m\u001b[0m\n",
      "\u001b[0;32m~/anaconda3/lib/python3.6/site-packages/urllib3/connectionpool.py\u001b[0m in \u001b[0;36m_make_request\u001b[0;34m(self, conn, method, url, timeout, chunked, **httplib_request_kw)\u001b[0m\n\u001b[1;32m    345\u001b[0m         \u001b[0;32mtry\u001b[0m\u001b[0;34m:\u001b[0m\u001b[0;34m\u001b[0m\u001b[0m\n\u001b[0;32m--> 346\u001b[0;31m             \u001b[0mself\u001b[0m\u001b[0;34m.\u001b[0m\u001b[0m_validate_conn\u001b[0m\u001b[0;34m(\u001b[0m\u001b[0mconn\u001b[0m\u001b[0;34m)\u001b[0m\u001b[0;34m\u001b[0m\u001b[0m\n\u001b[0m\u001b[1;32m    347\u001b[0m         \u001b[0;32mexcept\u001b[0m \u001b[0;34m(\u001b[0m\u001b[0mSocketTimeout\u001b[0m\u001b[0;34m,\u001b[0m \u001b[0mBaseSSLError\u001b[0m\u001b[0;34m)\u001b[0m \u001b[0;32mas\u001b[0m \u001b[0me\u001b[0m\u001b[0;34m:\u001b[0m\u001b[0;34m\u001b[0m\u001b[0m\n",
      "\u001b[0;32m~/anaconda3/lib/python3.6/site-packages/urllib3/connectionpool.py\u001b[0m in \u001b[0;36m_validate_conn\u001b[0;34m(self, conn)\u001b[0m\n\u001b[1;32m    849\u001b[0m         \u001b[0;32mif\u001b[0m \u001b[0;32mnot\u001b[0m \u001b[0mgetattr\u001b[0m\u001b[0;34m(\u001b[0m\u001b[0mconn\u001b[0m\u001b[0;34m,\u001b[0m \u001b[0;34m'sock'\u001b[0m\u001b[0;34m,\u001b[0m \u001b[0;32mNone\u001b[0m\u001b[0;34m)\u001b[0m\u001b[0;34m:\u001b[0m  \u001b[0;31m# AppEngine might not have  `.sock`\u001b[0m\u001b[0;34m\u001b[0m\u001b[0m\n\u001b[0;32m--> 850\u001b[0;31m             \u001b[0mconn\u001b[0m\u001b[0;34m.\u001b[0m\u001b[0mconnect\u001b[0m\u001b[0;34m(\u001b[0m\u001b[0;34m)\u001b[0m\u001b[0;34m\u001b[0m\u001b[0m\n\u001b[0m\u001b[1;32m    851\u001b[0m \u001b[0;34m\u001b[0m\u001b[0m\n",
      "\u001b[0;32m~/anaconda3/lib/python3.6/site-packages/urllib3/connection.py\u001b[0m in \u001b[0;36mconnect\u001b[0;34m(self)\u001b[0m\n\u001b[1;32m    283\u001b[0m         \u001b[0;31m# Add certificate verification\u001b[0m\u001b[0;34m\u001b[0m\u001b[0;34m\u001b[0m\u001b[0m\n\u001b[0;32m--> 284\u001b[0;31m         \u001b[0mconn\u001b[0m \u001b[0;34m=\u001b[0m \u001b[0mself\u001b[0m\u001b[0;34m.\u001b[0m\u001b[0m_new_conn\u001b[0m\u001b[0;34m(\u001b[0m\u001b[0;34m)\u001b[0m\u001b[0;34m\u001b[0m\u001b[0m\n\u001b[0m\u001b[1;32m    285\u001b[0m \u001b[0;34m\u001b[0m\u001b[0m\n",
      "\u001b[0;32m~/anaconda3/lib/python3.6/site-packages/urllib3/connection.py\u001b[0m in \u001b[0;36m_new_conn\u001b[0;34m(self)\u001b[0m\n\u001b[1;32m    149\u001b[0m             raise NewConnectionError(\n\u001b[0;32m--> 150\u001b[0;31m                 self, \"Failed to establish a new connection: %s\" % e)\n\u001b[0m\u001b[1;32m    151\u001b[0m \u001b[0;34m\u001b[0m\u001b[0m\n",
      "\u001b[0;31mNewConnectionError\u001b[0m: <urllib3.connection.VerifiedHTTPSConnection object at 0x7eff6f87b1d0>: Failed to establish a new connection: [Errno -3] Temporary failure in name resolution",
      "\nDuring handling of the above exception, another exception occurred:\n",
      "\u001b[0;31mMaxRetryError\u001b[0m                             Traceback (most recent call last)",
      "\u001b[0;32m~/anaconda3/lib/python3.6/site-packages/requests/adapters.py\u001b[0m in \u001b[0;36msend\u001b[0;34m(self, request, stream, timeout, verify, cert, proxies)\u001b[0m\n\u001b[1;32m    439\u001b[0m                     \u001b[0mretries\u001b[0m\u001b[0;34m=\u001b[0m\u001b[0mself\u001b[0m\u001b[0;34m.\u001b[0m\u001b[0mmax_retries\u001b[0m\u001b[0;34m,\u001b[0m\u001b[0;34m\u001b[0m\u001b[0m\n\u001b[0;32m--> 440\u001b[0;31m                     \u001b[0mtimeout\u001b[0m\u001b[0;34m=\u001b[0m\u001b[0mtimeout\u001b[0m\u001b[0;34m\u001b[0m\u001b[0m\n\u001b[0m\u001b[1;32m    441\u001b[0m                 )\n",
      "\u001b[0;32m~/anaconda3/lib/python3.6/site-packages/urllib3/connectionpool.py\u001b[0m in \u001b[0;36murlopen\u001b[0;34m(self, method, url, body, headers, retries, redirect, assert_same_host, timeout, pool_timeout, release_conn, chunked, body_pos, **response_kw)\u001b[0m\n\u001b[1;32m    638\u001b[0m             retries = retries.increment(method, url, error=e, _pool=self,\n\u001b[0;32m--> 639\u001b[0;31m                                         _stacktrace=sys.exc_info()[2])\n\u001b[0m\u001b[1;32m    640\u001b[0m             \u001b[0mretries\u001b[0m\u001b[0;34m.\u001b[0m\u001b[0msleep\u001b[0m\u001b[0;34m(\u001b[0m\u001b[0;34m)\u001b[0m\u001b[0;34m\u001b[0m\u001b[0m\n",
      "\u001b[0;32m~/anaconda3/lib/python3.6/site-packages/urllib3/util/retry.py\u001b[0m in \u001b[0;36mincrement\u001b[0;34m(self, method, url, response, error, _pool, _stacktrace)\u001b[0m\n\u001b[1;32m    387\u001b[0m         \u001b[0;32mif\u001b[0m \u001b[0mnew_retry\u001b[0m\u001b[0;34m.\u001b[0m\u001b[0mis_exhausted\u001b[0m\u001b[0;34m(\u001b[0m\u001b[0;34m)\u001b[0m\u001b[0;34m:\u001b[0m\u001b[0;34m\u001b[0m\u001b[0m\n\u001b[0;32m--> 388\u001b[0;31m             \u001b[0;32mraise\u001b[0m \u001b[0mMaxRetryError\u001b[0m\u001b[0;34m(\u001b[0m\u001b[0m_pool\u001b[0m\u001b[0;34m,\u001b[0m \u001b[0murl\u001b[0m\u001b[0;34m,\u001b[0m \u001b[0merror\u001b[0m \u001b[0;32mor\u001b[0m \u001b[0mResponseError\u001b[0m\u001b[0;34m(\u001b[0m\u001b[0mcause\u001b[0m\u001b[0;34m)\u001b[0m\u001b[0;34m)\u001b[0m\u001b[0;34m\u001b[0m\u001b[0m\n\u001b[0m\u001b[1;32m    389\u001b[0m \u001b[0;34m\u001b[0m\u001b[0m\n",
      "\u001b[0;31mMaxRetryError\u001b[0m: HTTPSConnectionPool(host='www.umweltbundesamt.de', port=443): Max retries exceeded with url: /js/uaq/data/stations/limits (Caused by NewConnectionError('<urllib3.connection.VerifiedHTTPSConnection object at 0x7eff6f87b1d0>: Failed to establish a new connection: [Errno -3] Temporary failure in name resolution',))",
      "\nDuring handling of the above exception, another exception occurred:\n",
      "\u001b[0;31mConnectionError\u001b[0m                           Traceback (most recent call last)",
      "\u001b[0;32m<ipython-input-15-e7645ab20792>\u001b[0m in \u001b[0;36m<module>\u001b[0;34m()\u001b[0m\n\u001b[0;32m----> 1\u001b[0;31m \u001b[0mr\u001b[0m \u001b[0;34m=\u001b[0m \u001b[0mrequests\u001b[0m\u001b[0;34m.\u001b[0m\u001b[0mget\u001b[0m\u001b[0;34m(\u001b[0m\u001b[0mumwelt_url\u001b[0m\u001b[0;34m)\u001b[0m\u001b[0;34m\u001b[0m\u001b[0m\n\u001b[0m\u001b[1;32m      2\u001b[0m \u001b[0;31m#data = json.loads(r.content)\u001b[0m\u001b[0;34m\u001b[0m\u001b[0;34m\u001b[0m\u001b[0m\n",
      "\u001b[0;32m~/anaconda3/lib/python3.6/site-packages/requests/api.py\u001b[0m in \u001b[0;36mget\u001b[0;34m(url, params, **kwargs)\u001b[0m\n\u001b[1;32m     70\u001b[0m \u001b[0;34m\u001b[0m\u001b[0m\n\u001b[1;32m     71\u001b[0m     \u001b[0mkwargs\u001b[0m\u001b[0;34m.\u001b[0m\u001b[0msetdefault\u001b[0m\u001b[0;34m(\u001b[0m\u001b[0;34m'allow_redirects'\u001b[0m\u001b[0;34m,\u001b[0m \u001b[0;32mTrue\u001b[0m\u001b[0;34m)\u001b[0m\u001b[0;34m\u001b[0m\u001b[0m\n\u001b[0;32m---> 72\u001b[0;31m     \u001b[0;32mreturn\u001b[0m \u001b[0mrequest\u001b[0m\u001b[0;34m(\u001b[0m\u001b[0;34m'get'\u001b[0m\u001b[0;34m,\u001b[0m \u001b[0murl\u001b[0m\u001b[0;34m,\u001b[0m \u001b[0mparams\u001b[0m\u001b[0;34m=\u001b[0m\u001b[0mparams\u001b[0m\u001b[0;34m,\u001b[0m \u001b[0;34m**\u001b[0m\u001b[0mkwargs\u001b[0m\u001b[0;34m)\u001b[0m\u001b[0;34m\u001b[0m\u001b[0m\n\u001b[0m\u001b[1;32m     73\u001b[0m \u001b[0;34m\u001b[0m\u001b[0m\n\u001b[1;32m     74\u001b[0m \u001b[0;34m\u001b[0m\u001b[0m\n",
      "\u001b[0;32m~/anaconda3/lib/python3.6/site-packages/requests/api.py\u001b[0m in \u001b[0;36mrequest\u001b[0;34m(method, url, **kwargs)\u001b[0m\n\u001b[1;32m     56\u001b[0m     \u001b[0;31m# cases, and look like a memory leak in others.\u001b[0m\u001b[0;34m\u001b[0m\u001b[0;34m\u001b[0m\u001b[0m\n\u001b[1;32m     57\u001b[0m     \u001b[0;32mwith\u001b[0m \u001b[0msessions\u001b[0m\u001b[0;34m.\u001b[0m\u001b[0mSession\u001b[0m\u001b[0;34m(\u001b[0m\u001b[0;34m)\u001b[0m \u001b[0;32mas\u001b[0m \u001b[0msession\u001b[0m\u001b[0;34m:\u001b[0m\u001b[0;34m\u001b[0m\u001b[0m\n\u001b[0;32m---> 58\u001b[0;31m         \u001b[0;32mreturn\u001b[0m \u001b[0msession\u001b[0m\u001b[0;34m.\u001b[0m\u001b[0mrequest\u001b[0m\u001b[0;34m(\u001b[0m\u001b[0mmethod\u001b[0m\u001b[0;34m=\u001b[0m\u001b[0mmethod\u001b[0m\u001b[0;34m,\u001b[0m \u001b[0murl\u001b[0m\u001b[0;34m=\u001b[0m\u001b[0murl\u001b[0m\u001b[0;34m,\u001b[0m \u001b[0;34m**\u001b[0m\u001b[0mkwargs\u001b[0m\u001b[0;34m)\u001b[0m\u001b[0;34m\u001b[0m\u001b[0m\n\u001b[0m\u001b[1;32m     59\u001b[0m \u001b[0;34m\u001b[0m\u001b[0m\n\u001b[1;32m     60\u001b[0m \u001b[0;34m\u001b[0m\u001b[0m\n",
      "\u001b[0;32m~/anaconda3/lib/python3.6/site-packages/requests/sessions.py\u001b[0m in \u001b[0;36mrequest\u001b[0;34m(self, method, url, params, data, headers, cookies, files, auth, timeout, allow_redirects, proxies, hooks, stream, verify, cert, json)\u001b[0m\n\u001b[1;32m    506\u001b[0m         }\n\u001b[1;32m    507\u001b[0m         \u001b[0msend_kwargs\u001b[0m\u001b[0;34m.\u001b[0m\u001b[0mupdate\u001b[0m\u001b[0;34m(\u001b[0m\u001b[0msettings\u001b[0m\u001b[0;34m)\u001b[0m\u001b[0;34m\u001b[0m\u001b[0m\n\u001b[0;32m--> 508\u001b[0;31m         \u001b[0mresp\u001b[0m \u001b[0;34m=\u001b[0m \u001b[0mself\u001b[0m\u001b[0;34m.\u001b[0m\u001b[0msend\u001b[0m\u001b[0;34m(\u001b[0m\u001b[0mprep\u001b[0m\u001b[0;34m,\u001b[0m \u001b[0;34m**\u001b[0m\u001b[0msend_kwargs\u001b[0m\u001b[0;34m)\u001b[0m\u001b[0;34m\u001b[0m\u001b[0m\n\u001b[0m\u001b[1;32m    509\u001b[0m \u001b[0;34m\u001b[0m\u001b[0m\n\u001b[1;32m    510\u001b[0m         \u001b[0;32mreturn\u001b[0m \u001b[0mresp\u001b[0m\u001b[0;34m\u001b[0m\u001b[0m\n",
      "\u001b[0;32m~/anaconda3/lib/python3.6/site-packages/requests/sessions.py\u001b[0m in \u001b[0;36msend\u001b[0;34m(self, request, **kwargs)\u001b[0m\n\u001b[1;32m    616\u001b[0m \u001b[0;34m\u001b[0m\u001b[0m\n\u001b[1;32m    617\u001b[0m         \u001b[0;31m# Send the request\u001b[0m\u001b[0;34m\u001b[0m\u001b[0;34m\u001b[0m\u001b[0m\n\u001b[0;32m--> 618\u001b[0;31m         \u001b[0mr\u001b[0m \u001b[0;34m=\u001b[0m \u001b[0madapter\u001b[0m\u001b[0;34m.\u001b[0m\u001b[0msend\u001b[0m\u001b[0;34m(\u001b[0m\u001b[0mrequest\u001b[0m\u001b[0;34m,\u001b[0m \u001b[0;34m**\u001b[0m\u001b[0mkwargs\u001b[0m\u001b[0;34m)\u001b[0m\u001b[0;34m\u001b[0m\u001b[0m\n\u001b[0m\u001b[1;32m    619\u001b[0m \u001b[0;34m\u001b[0m\u001b[0m\n\u001b[1;32m    620\u001b[0m         \u001b[0;31m# Total elapsed time of the request (approximately)\u001b[0m\u001b[0;34m\u001b[0m\u001b[0;34m\u001b[0m\u001b[0m\n",
      "\u001b[0;32m~/anaconda3/lib/python3.6/site-packages/requests/adapters.py\u001b[0m in \u001b[0;36msend\u001b[0;34m(self, request, stream, timeout, verify, cert, proxies)\u001b[0m\n\u001b[1;32m    506\u001b[0m                 \u001b[0;32mraise\u001b[0m \u001b[0mSSLError\u001b[0m\u001b[0;34m(\u001b[0m\u001b[0me\u001b[0m\u001b[0;34m,\u001b[0m \u001b[0mrequest\u001b[0m\u001b[0;34m=\u001b[0m\u001b[0mrequest\u001b[0m\u001b[0;34m)\u001b[0m\u001b[0;34m\u001b[0m\u001b[0m\n\u001b[1;32m    507\u001b[0m \u001b[0;34m\u001b[0m\u001b[0m\n\u001b[0;32m--> 508\u001b[0;31m             \u001b[0;32mraise\u001b[0m \u001b[0mConnectionError\u001b[0m\u001b[0;34m(\u001b[0m\u001b[0me\u001b[0m\u001b[0;34m,\u001b[0m \u001b[0mrequest\u001b[0m\u001b[0;34m=\u001b[0m\u001b[0mrequest\u001b[0m\u001b[0;34m)\u001b[0m\u001b[0;34m\u001b[0m\u001b[0m\n\u001b[0m\u001b[1;32m    509\u001b[0m \u001b[0;34m\u001b[0m\u001b[0m\n\u001b[1;32m    510\u001b[0m         \u001b[0;32mexcept\u001b[0m \u001b[0mClosedPoolError\u001b[0m \u001b[0;32mas\u001b[0m \u001b[0me\u001b[0m\u001b[0;34m:\u001b[0m\u001b[0;34m\u001b[0m\u001b[0m\n",
      "\u001b[0;31mConnectionError\u001b[0m: HTTPSConnectionPool(host='www.umweltbundesamt.de', port=443): Max retries exceeded with url: /js/uaq/data/stations/limits (Caused by NewConnectionError('<urllib3.connection.VerifiedHTTPSConnection object at 0x7eff6f87b1d0>: Failed to establish a new connection: [Errno -3] Temporary failure in name resolution',))"
     ]
    }
   ],
   "source": [
    "r = requests.get(umwelt_url)\n",
    "#data = json.loads(r.content)"
   ]
  },
  {
   "cell_type": "code",
   "execution_count": null,
   "metadata": {},
   "outputs": [],
   "source": [
    "data"
   ]
  }
 ],
 "metadata": {
  "kernelspec": {
   "display_name": "Python 3",
   "language": "python",
   "name": "python3"
  },
  "language_info": {
   "codemirror_mode": {
    "name": "ipython",
    "version": 3
   },
   "file_extension": ".py",
   "mimetype": "text/x-python",
   "name": "python",
   "nbconvert_exporter": "python",
   "pygments_lexer": "ipython3",
   "version": "3.6.3"
  }
 },
 "nbformat": 4,
 "nbformat_minor": 2
}
