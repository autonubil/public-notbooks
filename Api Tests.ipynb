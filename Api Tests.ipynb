{
 "cells": [
  {
   "cell_type": "code",
   "execution_count": 3,
   "metadata": {},
   "outputs": [
    {
     "name": "stderr",
     "output_type": "stream",
     "text": [
      "From: Budapest, Hungary - to: Gyor, Hungary\n",
      "Time 82.97 minutes, distance 124.78 km.\n"
     ]
    },
    {
     "data": {
      "text/plain": [
       "(82.96666666666667, 124.783)"
      ]
     },
     "execution_count": 3,
     "metadata": {},
     "output_type": "execute_result"
    }
   ],
   "source": [
    "#!pip install WazeRouteCalculator\n",
    "import WazeRouteCalculator\n",
    "\n",
    "from_address = 'Budapest, Hungary'\n",
    "to_address = 'Gyor, Hungary'\n",
    "region = 'EU'\n",
    "route = WazeRouteCalculator.WazeRouteCalculator(from_address, to_address, region)\n",
    "route.calc_route_info()"
   ]
  }
 ],
 "metadata": {
  "kernelspec": {
   "display_name": "Python 3",
   "language": "python",
   "name": "python3"
  },
  "language_info": {
   "codemirror_mode": {
    "name": "ipython",
    "version": 3
   },
   "file_extension": ".py",
   "mimetype": "text/x-python",
   "name": "python",
   "nbconvert_exporter": "python",
   "pygments_lexer": "ipython3",
   "version": "3.6.3"
  }
 },
 "nbformat": 4,
 "nbformat_minor": 2
}
