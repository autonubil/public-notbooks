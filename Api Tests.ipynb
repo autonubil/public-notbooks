{
 "cells": [
  {
   "cell_type": "code",
   "execution_count": null,
   "metadata": {},
   "outputs": [],
   "source": [
    "import requests\n",
    "import json\n",
    "import pandas as pd"
   ]
  },
  {
   "cell_type": "markdown",
   "metadata": {},
   "source": [
    "## Urban Institute Examples\n",
    "1: Specify username and password and some constant information first"
   ]
  },
  {
   "cell_type": "code",
   "execution_count": null,
   "metadata": {},
   "outputs": [],
   "source": [
    "urban_pulse_user = '<specify>'\n",
    "urban_pulse_password = '<specify too>'"
   ]
  },
  {
   "cell_type": "markdown",
   "metadata": {},
   "source": [
    "Configuration Parameters:"
   ]
  },
  {
   "cell_type": "code",
   "execution_count": null,
   "metadata": {},
   "outputs": [],
   "source": [
    "host_staging = \"https://sc-hackathon-s.urbanpulse.de\"\n",
    "host_production = \"https://sc-hackathon.urbanpulse.de\"\n",
    "host_port = 42000\n",
    "\n",
    "urban_pulse_url = host_staging + '/UrbanPulseManagement/api/'\n",
    "\n",
    "print('Will connect to ' + host_staging + ' as ' + urban_pulse_user)"
   ]
  },
  {
   "cell_type": "markdown",
   "metadata": {},
   "source": [
    "## Example for Eventtypes"
   ]
  },
  {
   "cell_type": "code",
   "execution_count": 4,
   "metadata": {},
   "outputs": [
    {
     "data": {
      "text/html": [
       "<div>\n",
       "<table border=\"1\" class=\"dataframe\">\n",
       "  <thead>\n",
       "    <tr style=\"text-align: right;\">\n",
       "      <th></th>\n",
       "      <th>config</th>\n",
       "      <th>description</th>\n",
       "      <th>id</th>\n",
       "      <th>name</th>\n",
       "      <th>sensors</th>\n",
       "    </tr>\n",
       "  </thead>\n",
       "  <tbody>\n",
       "    <tr>\n",
       "      <th>0</th>\n",
       "      <td>{'D49-64': 'long', 'S20': 'string', 'S22': 'st...</td>\n",
       "      <td>{'Dxx-yy': 'each a bitfield of 16 bits, value ...</td>\n",
       "      <td>1ae17b7e-f07c-4baa-ae84-ceba2bdcbbf1</td>\n",
       "      <td>SwarcoTMSEventType</td>\n",
       "      <td>[138, 141, 142, 143, 148, 59]</td>\n",
       "    </tr>\n",
       "    <tr>\n",
       "      <th>1</th>\n",
       "      <td>{'temp': 'double', 'sunrise': 'java.util.Date'...</td>\n",
       "      <td>{'countrycode': 'Two letter country code', 'te...</td>\n",
       "      <td>8e5c339d-1521-4677-a100-fbde5985d5d4</td>\n",
       "      <td>OpenWeatherMapEventType</td>\n",
       "      <td>[11b41feb-2747-4a7c-953e-dc50703af107, a350d2f...</td>\n",
       "    </tr>\n",
       "    <tr>\n",
       "      <th>2</th>\n",
       "      <td>{'belowThreshold': 'boolean', 'sensorValue': '...</td>\n",
       "      <td>{'stationId': 'The id of the station, e.g. ROD...</td>\n",
       "      <td>944ebb22-009f-46b8-a89d-dd50d4b097ec</td>\n",
       "      <td>NRWEnvironmentEventType</td>\n",
       "      <td>[0a51a928-2a5c-467f-a160-a44cd10ee5cb, 1156985...</td>\n",
       "    </tr>\n",
       "  </tbody>\n",
       "</table>\n",
       "</div>"
      ],
      "text/plain": [
       "                                              config  \\\n",
       "0  {'D49-64': 'long', 'S20': 'string', 'S22': 'st...   \n",
       "1  {'temp': 'double', 'sunrise': 'java.util.Date'...   \n",
       "2  {'belowThreshold': 'boolean', 'sensorValue': '...   \n",
       "\n",
       "                                         description  \\\n",
       "0  {'Dxx-yy': 'each a bitfield of 16 bits, value ...   \n",
       "1  {'countrycode': 'Two letter country code', 'te...   \n",
       "2  {'stationId': 'The id of the station, e.g. ROD...   \n",
       "\n",
       "                                     id                     name  \\\n",
       "0  1ae17b7e-f07c-4baa-ae84-ceba2bdcbbf1       SwarcoTMSEventType   \n",
       "1  8e5c339d-1521-4677-a100-fbde5985d5d4  OpenWeatherMapEventType   \n",
       "2  944ebb22-009f-46b8-a89d-dd50d4b097ec  NRWEnvironmentEventType   \n",
       "\n",
       "                                             sensors  \n",
       "0                      [138, 141, 142, 143, 148, 59]  \n",
       "1  [11b41feb-2747-4a7c-953e-dc50703af107, a350d2f...  \n",
       "2  [0a51a928-2a5c-467f-a160-a44cd10ee5cb, 1156985...  "
      ]
     },
     "execution_count": 4,
     "metadata": {},
     "output_type": "execute_result"
    }
   ],
   "source": [
    "response = requests.get(urban_pulse_url +'eventtypes', auth=(urban_pulse_user,urban_pulse_password), stream=True)\n",
    "df = pd.DataFrame(response.json()['eventtypes']);\n",
    "df.head(3)"
   ]
  },
  {
   "cell_type": "markdown",
   "metadata": {},
   "source": [
    "## Example for Sensordata"
   ]
  },
  {
   "cell_type": "code",
   "execution_count": 5,
   "metadata": {},
   "outputs": [
    {
     "data": {
      "text/html": [
       "<div>\n",
       "<table border=\"1\" class=\"dataframe\">\n",
       "  <thead>\n",
       "    <tr style=\"text-align: right;\">\n",
       "      <th></th>\n",
       "      <th>categories</th>\n",
       "      <th>description</th>\n",
       "      <th>eventtype</th>\n",
       "      <th>id</th>\n",
       "      <th>location</th>\n",
       "      <th>senderid</th>\n",
       "    </tr>\n",
       "  </thead>\n",
       "  <tbody>\n",
       "    <tr>\n",
       "      <th>0</th>\n",
       "      <td>[]</td>\n",
       "      <td>{'reference': {'dataType': 'PM10', 'stationId'...</td>\n",
       "      <td>944ebb22-009f-46b8-a89d-dd50d4b097ec</td>\n",
       "      <td>0a51a928-2a5c-467f-a160-a44cd10ee5cb</td>\n",
       "      <td>{'type': 'undefined'}</td>\n",
       "      <td>b93c6729-0538-4c08-8900-7528fd9fcd50</td>\n",
       "    </tr>\n",
       "    <tr>\n",
       "      <th>1</th>\n",
       "      <td>[]</td>\n",
       "      <td>{'reference': {'dataType': 'windSpeed', 'stati...</td>\n",
       "      <td>944ebb22-009f-46b8-a89d-dd50d4b097ec</td>\n",
       "      <td>11569855-3607-4bec-b58f-0da3b4ef8e92</td>\n",
       "      <td>{'type': 'undefined'}</td>\n",
       "      <td>b93c6729-0538-4c08-8900-7528fd9fcd50</td>\n",
       "    </tr>\n",
       "    <tr>\n",
       "      <th>2</th>\n",
       "      <td>[]</td>\n",
       "      <td>{'reference': {'zipcode': '64283', 'countrycod...</td>\n",
       "      <td>8e5c339d-1521-4677-a100-fbde5985d5d4</td>\n",
       "      <td>11b41feb-2747-4a7c-953e-dc50703af107</td>\n",
       "      <td>{'type': 'undefined'}</td>\n",
       "      <td>f7e6f6d0-2587-4653-91f5-7266ffba2ae3</td>\n",
       "    </tr>\n",
       "  </tbody>\n",
       "</table>\n",
       "</div>"
      ],
      "text/plain": [
       "  categories                                        description  \\\n",
       "0         []  {'reference': {'dataType': 'PM10', 'stationId'...   \n",
       "1         []  {'reference': {'dataType': 'windSpeed', 'stati...   \n",
       "2         []  {'reference': {'zipcode': '64283', 'countrycod...   \n",
       "\n",
       "                              eventtype                                    id  \\\n",
       "0  944ebb22-009f-46b8-a89d-dd50d4b097ec  0a51a928-2a5c-467f-a160-a44cd10ee5cb   \n",
       "1  944ebb22-009f-46b8-a89d-dd50d4b097ec  11569855-3607-4bec-b58f-0da3b4ef8e92   \n",
       "2  8e5c339d-1521-4677-a100-fbde5985d5d4  11b41feb-2747-4a7c-953e-dc50703af107   \n",
       "\n",
       "                location                              senderid  \n",
       "0  {'type': 'undefined'}  b93c6729-0538-4c08-8900-7528fd9fcd50  \n",
       "1  {'type': 'undefined'}  b93c6729-0538-4c08-8900-7528fd9fcd50  \n",
       "2  {'type': 'undefined'}  f7e6f6d0-2587-4653-91f5-7266ffba2ae3  "
      ]
     },
     "execution_count": 5,
     "metadata": {},
     "output_type": "execute_result"
    }
   ],
   "source": [
    "response = requests.get(urban_pulse_url +'sensors', auth=(urban_pulse_user,urban_pulse_password), stream=True)\n",
    "df = pd.DataFrame(response.json()['sensors']);\n",
    "df.head(3)"
   ]
  },
  {
   "cell_type": "markdown",
   "metadata": {},
   "source": [
    "Lets get some historical data:\n",
    "### Sensordata:\n",
    "A list of all sensors can be obtained from https:// < HOST > /UrbanPulseManagement/api/sensors with credentials"
   ]
  },
  {
   "cell_type": "code",
   "execution_count": 8,
   "metadata": {},
   "outputs": [
    {
     "name": "stdout",
     "output_type": "stream",
     "text": [
      "https://sc-hackathon-s.urbanpulse.de:42000/UrbanPulseData/historic/sensordata?since=2018-03-26T11:18:00.000Z&until=2018-03-26T11:22:00.000Z&sid=846e9b95-a9b4-4d5f-b549-f6e211b9c3ba\n",
      "Received: {\"D49-64\": 0, \"S20\": \"\", \"S22\": \"\", \"S21\": \"\", \"S02\": \"G\", \"S24\": \"\", \"S01\": \"R\", \"S23\": \"\", \"S04\": \n",
      "Received: {\"D49-64\": 0, \"S20\": \"\", \"S22\": \"\", \"S21\": \"\", \"S02\": \"G\", \"S24\": \"\", \"S01\": \"R\", \"S23\": \"\", \"S04\": \n",
      "Received: {\"D49-64\": 0, \"S20\": \"\", \"S22\": \"\", \"S21\": \"\", \"S02\": \"G\", \"S24\": \"\", \"S01\": \"R\", \"S23\": \"\", \"S04\": \n",
      "Received: {\"D49-64\": 0, \"S20\": \"\", \"S22\": \"\", \"S21\": \"\", \"S02\": \"G\", \"S24\": \"\", \"S01\": \"R\", \"S23\": \"\", \"S04\": \n",
      "Received: {\"D49-64\": 0, \"S20\": \"\", \"S22\": \"\", \"S21\": \"\", \"S02\": \"G\", \"S24\": \"\", \"S01\": \"R\", \"S23\": \"\", \"S04\": \n",
      "Received: {\"D49-64\": 0, \"S20\": \"\", \"S22\": \"\", \"S21\": \"\", \"S02\": \"G\", \"S24\": \"\", \"S01\": \"R\", \"S23\": \"\", \"S04\": \n",
      "Received: {\"D49-64\": 0, \"S20\": \"\", \"S22\": \"\", \"S21\": \"\", \"S02\": \"G\", \"S24\": \"\", \"S01\": \"R\", \"S23\": \"\", \"S04\": \n",
      "Received: {\"D49-64\": 0, \"S20\": \"\", \"S22\": \"\", \"S21\": \"\", \"S02\": \"G\", \"S24\": \"\", \"S01\": \"R\", \"S23\": \"\", \"S04\": \n",
      "Received: {\"D49-64\": 0, \"S20\": \"\", \"S22\": \"\", \"S21\": \"\", \"S02\": \"A\", \"S24\": \"\", \"S01\": \"R\", \"S23\": \"\", \"S04\": \n",
      "Received: {\"D49-64\": 0, \"S20\": \"\", \"S22\": \"\", \"S21\": \"\", \"S02\": \"A\", \"S24\": \"\", \"S01\": \"R\", \"S23\": \"\", \"S04\": \n"
     ]
    },
    {
     "data": {
      "text/html": [
       "<div>\n",
       "<table border=\"1\" class=\"dataframe\">\n",
       "  <thead>\n",
       "    <tr style=\"text-align: right;\">\n",
       "      <th></th>\n",
       "      <th>Bezeichnung</th>\n",
       "      <th>D01-16</th>\n",
       "      <th>D17-32</th>\n",
       "      <th>D33-48</th>\n",
       "      <th>D49-64</th>\n",
       "      <th>Datum</th>\n",
       "      <th>Programm</th>\n",
       "      <th>S01</th>\n",
       "      <th>S02</th>\n",
       "      <th>S03</th>\n",
       "      <th>...</th>\n",
       "      <th>S31</th>\n",
       "      <th>S32</th>\n",
       "      <th>SID</th>\n",
       "      <th>Status</th>\n",
       "      <th>Uhrzeit</th>\n",
       "      <th>Uhrzeit ms</th>\n",
       "      <th>Umlaufsekunde</th>\n",
       "      <th>eventType</th>\n",
       "      <th>statementName</th>\n",
       "      <th>timestamp</th>\n",
       "    </tr>\n",
       "  </thead>\n",
       "  <tbody>\n",
       "    <tr>\n",
       "      <th>0</th>\n",
       "      <td>A200</td>\n",
       "      <td>0</td>\n",
       "      <td>0</td>\n",
       "      <td>0</td>\n",
       "      <td>0</td>\n",
       "      <td>26.03.2018</td>\n",
       "      <td>12</td>\n",
       "      <td>R</td>\n",
       "      <td>G</td>\n",
       "      <td>R</td>\n",
       "      <td>...</td>\n",
       "      <td></td>\n",
       "      <td></td>\n",
       "      <td>846e9b95-a9b4-4d5f-b549-f6e211b9c3ba</td>\n",
       "      <td>0</td>\n",
       "      <td>13:17:58</td>\n",
       "      <td>811</td>\n",
       "      <td>730</td>\n",
       "      <td>SwarcoTMSEventType</td>\n",
       "      <td>ConnectedSignals_hackathon</td>\n",
       "      <td>2018-03-26T11:18:00.193Z</td>\n",
       "    </tr>\n",
       "    <tr>\n",
       "      <th>1</th>\n",
       "      <td>A200</td>\n",
       "      <td>0</td>\n",
       "      <td>0</td>\n",
       "      <td>0</td>\n",
       "      <td>0</td>\n",
       "      <td>26.03.2018</td>\n",
       "      <td>12</td>\n",
       "      <td>R</td>\n",
       "      <td>G</td>\n",
       "      <td>R</td>\n",
       "      <td>...</td>\n",
       "      <td></td>\n",
       "      <td></td>\n",
       "      <td>846e9b95-a9b4-4d5f-b549-f6e211b9c3ba</td>\n",
       "      <td>0</td>\n",
       "      <td>13:17:59</td>\n",
       "      <td>812</td>\n",
       "      <td>740</td>\n",
       "      <td>SwarcoTMSEventType</td>\n",
       "      <td>ConnectedSignals_hackathon</td>\n",
       "      <td>2018-03-26T11:18:01.213Z</td>\n",
       "    </tr>\n",
       "    <tr>\n",
       "      <th>2</th>\n",
       "      <td>A200</td>\n",
       "      <td>0</td>\n",
       "      <td>0</td>\n",
       "      <td>0</td>\n",
       "      <td>0</td>\n",
       "      <td>26.03.2018</td>\n",
       "      <td>12</td>\n",
       "      <td>R</td>\n",
       "      <td>G</td>\n",
       "      <td>R</td>\n",
       "      <td>...</td>\n",
       "      <td></td>\n",
       "      <td></td>\n",
       "      <td>846e9b95-a9b4-4d5f-b549-f6e211b9c3ba</td>\n",
       "      <td>0</td>\n",
       "      <td>13:18:00</td>\n",
       "      <td>812</td>\n",
       "      <td>750</td>\n",
       "      <td>SwarcoTMSEventType</td>\n",
       "      <td>ConnectedSignals_hackathon</td>\n",
       "      <td>2018-03-26T11:18:02.162Z</td>\n",
       "    </tr>\n",
       "  </tbody>\n",
       "</table>\n",
       "<p>3 rows × 47 columns</p>\n",
       "</div>"
      ],
      "text/plain": [
       "  Bezeichnung  D01-16  D17-32  D33-48  D49-64       Datum  Programm S01 S02  \\\n",
       "0        A200       0       0       0       0  26.03.2018        12   R   G   \n",
       "1        A200       0       0       0       0  26.03.2018        12   R   G   \n",
       "2        A200       0       0       0       0  26.03.2018        12   R   G   \n",
       "\n",
       "  S03            ...            S31 S32                                   SID  \\\n",
       "0   R            ...                     846e9b95-a9b4-4d5f-b549-f6e211b9c3ba   \n",
       "1   R            ...                     846e9b95-a9b4-4d5f-b549-f6e211b9c3ba   \n",
       "2   R            ...                     846e9b95-a9b4-4d5f-b549-f6e211b9c3ba   \n",
       "\n",
       "  Status   Uhrzeit Uhrzeit ms Umlaufsekunde           eventType  \\\n",
       "0      0  13:17:58        811           730  SwarcoTMSEventType   \n",
       "1      0  13:17:59        812           740  SwarcoTMSEventType   \n",
       "2      0  13:18:00        812           750  SwarcoTMSEventType   \n",
       "\n",
       "                statementName                 timestamp  \n",
       "0  ConnectedSignals_hackathon  2018-03-26T11:18:00.193Z  \n",
       "1  ConnectedSignals_hackathon  2018-03-26T11:18:01.213Z  \n",
       "2  ConnectedSignals_hackathon  2018-03-26T11:18:02.162Z  \n",
       "\n",
       "[3 rows x 47 columns]"
      ]
     },
     "execution_count": 8,
     "metadata": {},
     "output_type": "execute_result"
    }
   ],
   "source": [
    "def fetch(sid, since, until):\n",
    "    path_template = \"{0}:{1}/UrbanPulseData/historic/sensordata?since={2}&until={3}&sid={4}\"\n",
    "    url = path_template.format(host_staging, host_port, since,until,sid)\n",
    "    print(url)\n",
    "    response = requests.get(url, auth=(urban_pulse_user,urban_pulse_password), stream=True)\n",
    "    data = response.json()\n",
    "    return data\n",
    "\n",
    "def get_data():\n",
    "    # A list of all sensors can be obtained from https://<HOST>/UrbanPulseManagement/api/sensors with credentials \n",
    "    sid = \"846e9b95-a9b4-4d5f-b549-f6e211b9c3ba\"\n",
    "    since = \"2018-03-26T11:18:00.000Z\"\n",
    "    until = \"2018-03-26T11:22:00.000Z\"\n",
    "\n",
    "    data = fetch(sid, since, until)\n",
    "    \n",
    "    \n",
    "    json_array = data['sensordata']\n",
    "    for event in json_array[:10]:\n",
    "        print(\"Received: \" + json.dumps(event)[:100])\n",
    "    return json_array\n",
    "\n",
    "pd.set_option('max_colwidth', 800)\n",
    "data =  get_data()\n",
    "df = pd.DataFrame(data)\n",
    "df.head(3)"
   ]
  },
  {
   "cell_type": "code",
   "execution_count": null,
   "metadata": {},
   "outputs": [],
   "source": [
    "# Example for other APIs found on GitHub. For more data sources please check the data source API.\n",
    "\n",
    "!pip install WazeRouteCalculator\n",
    "import WazeRouteCalculator\n",
    "\n",
    "from_address = 'Köln, Germany'\n",
    "to_address = 'Bad Hersfeld, Germany'\n",
    "region = 'EU'\n",
    "route = WazeRouteCalculator.WazeRouteCalculator(from_address, to_address, region)\n",
    "route.calc_route_info(real_time=False)"
   ]
  }
 ],
 "metadata": {
  "kernelspec": {
   "display_name": "Python 3",
   "language": "python",
   "name": "python3"
  },
  "language_info": {
   "codemirror_mode": {
    "name": "ipython",
    "version": 3
   },
   "file_extension": ".py",
   "mimetype": "text/x-python",
   "name": "python",
   "nbconvert_exporter": "python",
   "pygments_lexer": "ipython3",
   "version": "3.6.5"
  }
 },
 "nbformat": 4,
 "nbformat_minor": 2
}
