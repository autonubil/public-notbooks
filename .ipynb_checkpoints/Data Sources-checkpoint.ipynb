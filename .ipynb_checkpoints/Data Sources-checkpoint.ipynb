{
 "cells": [
  {
   "cell_type": "markdown",
   "metadata": {},
   "source": [
    "## Sources:\n",
    "\n",
    "- Air Sensors in Germany: https://luft.jetzt/darmstadt\n",
    "- Water Levels: https://www.pegelonline.wsv.de/webservice/dokuRestapi\n",
    "- [ui] Traffic Data: https://darmstadt.ui-traffic.de/faces/TrafficData.xhtml\n",
    "- MDM Portal: https://service.mdm-portal.de/mdm-portal-application/index.do\n",
    "- Hessisches Landesamt für \n",
    "Naturschutz, Umwelt und Geologie: https://www.hlnug.de/?id=9231&station=115\n",
    "- Offene Daten Köln (Broad Spectrum): https://offenedaten-koeln.de/\n",
    "- Offene Daten Niederlande (Datex II): http://opendata.ndw.nu/\n",
    "- Europäisches Datenportal: https://www.europeandataportal.eu/de\n",
    "- Umwelt Bundesamt (Luftbelastung): https://www.umweltbundesamt.de/daten/luftbelastung/aktuelle-luftdaten#/start?s=q64FAA==&_k=7ppjhw\n",
    "- Hackathon resources: https://autonubilsystem.sharepoint.com/projects/Freigegebene%20Dokumente/Forms/AllItems.aspx?slrid=c06f5c9e-401f-5000-71c6-2b5c194a65de&RootFolder=%2Fprojects%2FFreigegebene%20Dokumente%2FHackathon&FolderCTID=0x012000114001EF41424841B7FAE5DC60C5EC79\n"
   ]
  },
  {
   "cell_type": "markdown",
   "metadata": {},
   "source": [
    "## Interactive Maps and search engines:\n",
    "- Air quality index: \n",
    "http://www.eea.europa.eu/themes/air/air-quality-index\n",
    "- Map data search service: http://discomap.eea.europa.eu/Index/\n",
    "- IOT Search engine: https://www.thingful.net\n",
    "- Open Geo Spatial Data: http://www.opengeospatial.org\n",
    "- Water Levels: http://sensorweb.demo.52north.org/client/#/map\n",
    "- [ui] Bad Hersfeld https://badhersfeld.urbanpulse.de/#/map/waveScape"
   ]
  },
  {
   "cell_type": "markdown",
   "metadata": {},
   "source": [
    "## Authorization required:\n",
    "- TomTom Traffic Stats: \n",
    "https://developer.tomtom.com/traffic-stats\n",
    "- MDM Mobility Data Marketplace: http://www.mdm-portal.de/en/service/help/datex-ii-profile.html"
   ]
  },
  {
   "cell_type": "markdown",
   "metadata": {},
   "source": [
    "## Others:\n",
    "- Linking Open Data Wiki: \n",
    "https://www.w3.org/wiki/SweoIG/TaskForces/CommunityProjects/LinkingOpenData\n",
    "- Linking Open Data Visualization: http://lod-cloud.net/"
   ]
  },
  {
   "cell_type": "code",
   "execution_count": null,
   "metadata": {},
   "outputs": [],
   "source": [
    "## TODO:\n",
    "## Google Maps\n",
    "## Open Weather\n",
    "## DB / Flinkster"
   ]
  }
 ],
 "metadata": {
  "kernelspec": {
   "display_name": "Python 3",
   "language": "python",
   "name": "python3"
  },
  "language_info": {
   "codemirror_mode": {
    "name": "ipython",
    "version": 3
   },
   "file_extension": ".py",
   "mimetype": "text/x-python",
   "name": "python",
   "nbconvert_exporter": "python",
   "pygments_lexer": "ipython3",
   "version": "3.6.3"
  }
 },
 "nbformat": 4,
 "nbformat_minor": 2
}
