{
 "cells": [
  {
   "cell_type": "markdown",
   "metadata": {},
   "source": [
    "## Sources:\n",
    "\n",
    "- Air Sensors in Germany: https://luft.jetzt/darmstadt\n",
    "- Water Levels: https://www.pegelonline.wsv.de/webservice/dokuRestapi\n",
    "- [ui] Traffic Data: https://darmstadt.ui-traffic.de/faces/TrafficData.xhtml\n",
    "- Hackathon resources: https://autonubilsystem.sharepoint.com/projects/Freigegebene%20Dokumente/Forms/AllItems.aspx?slrid=c06f5c9e-401f-5000-71c6-2b5c194a65de&RootFolder=%2Fprojects%2FFreigegebene%20Dokumente%2FHackathon&FolderCTID=0x012000114001EF41424841B7FAE5DC60C5EC79"
   ]
  },
  {
   "cell_type": "markdown",
   "metadata": {},
   "source": [
    "## Interactive Maps and search engines:\n",
    "- Air quality index: \n",
    "http://www.eea.europa.eu/themes/air/air-quality-index\n",
    "- Map data search service: http://discomap.eea.europa.eu/Index/\n",
    "- IOT Search engine: https://www.thingful.net\n",
    "- Open Geo Spatial Data: http://www.opengeospatial.org\n",
    "- Water Levels: http://sensorweb.demo.52north.org/client/#/map\n",
    "- [ui] Bad Hersfeld https://badhersfeld.urbanpulse.de/#/map/waveScape"
   ]
  },
  {
   "cell_type": "markdown",
   "metadata": {},
   "source": [
    "## Authorization required:\n",
    "- TomTom Traffic Stats: \n",
    "https://developer.tomtom.com/traffic-stats"
   ]
  },
  {
   "cell_type": "markdown",
   "metadata": {},
   "source": [
    "## Others:\n",
    "- Linking Open Data Wiki: \n",
    "https://www.w3.org/wiki/SweoIG/TaskForces/CommunityProjects/LinkingOpenData\n",
    "- Linking Open Data Visualization: http://lod-cloud.net/"
   ]
  }
 ],
 "metadata": {
  "kernelspec": {
   "display_name": "Python 3",
   "language": "python",
   "name": "python3"
  },
  "language_info": {
   "codemirror_mode": {
    "name": "ipython",
    "version": 3
   },
   "file_extension": ".py",
   "mimetype": "text/x-python",
   "name": "python",
   "nbconvert_exporter": "python",
   "pygments_lexer": "ipython3",
   "version": "3.6.3"
  }
 },
 "nbformat": 4,
 "nbformat_minor": 2
}
